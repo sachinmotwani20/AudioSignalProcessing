{
  "nbformat": 4,
  "nbformat_minor": 0,
  "metadata": {
    "colab": {
      "name": "SoundsInPython.ipynb",
      "provenance": [],
      "collapsed_sections": []
    },
    "kernelspec": {
      "name": "python3",
      "display_name": "Python 3"
    }
  },
  "cells": [
    {
      "cell_type": "markdown",
      "metadata": {
        "id": "BFZt0SX9LtGD",
        "colab_type": "text"
      },
      "source": [
        "We have used [flute-a4.wav](https://github.com/sachinmotwani20/AudioSignalProcessing/blob/master/Sound%20Files/flute-a4.wav) & [Ultrasound.wav](https://github.com/sachinmotwani20/AudioSignalProcessing/blob/master/Sound%20Files/Ultrasound.wav) Soundfiles.\n",
        "\n",
        "\n",
        "\n",
        "\n",
        "\n"
      ]
    },
    {
      "cell_type": "markdown",
      "metadata": {
        "id": "N_a3zPm80iCf",
        "colab_type": "text"
      },
      "source": [
        "#Python & Sounds"
      ]
    },
    {
      "cell_type": "code",
      "metadata": {
        "id": "2hSBcliJbb6-",
        "colab_type": "code",
        "colab": {}
      },
      "source": [
        "from scipy.io.wavfile import read"
      ],
      "execution_count": 0,
      "outputs": []
    },
    {
      "cell_type": "code",
      "metadata": {
        "id": "a3iIJ00vRg-e",
        "colab_type": "code",
        "colab": {}
      },
      "source": [
        "!sudo pip install pysoundfile\n",
        "import soundfile"
      ],
      "execution_count": 0,
      "outputs": []
    },
    {
      "cell_type": "code",
      "metadata": {
        "id": "uCBaP_yBQx90",
        "colab_type": "code",
        "colab": {}
      },
      "source": [
        "data, samplerate = soundfile.read('flute-a4.wav')\n",
        "soundfile.write('flute-16.wav', data, samplerate, subtype='PCM_16')#Changing 24-bit sound to 16-bit sound"
      ],
      "execution_count": 0,
      "outputs": []
    },
    {
      "cell_type": "code",
      "metadata": {
        "id": "zAYdMLIEqLSY",
        "colab_type": "code",
        "colab": {}
      },
      "source": [
        "(fs, x) = read('flute-16.wav')\n",
        "#fs= sampling frequency\n",
        "#x= variable where the sample of the sound would be put "
      ],
      "execution_count": 0,
      "outputs": []
    },
    {
      "cell_type": "code",
      "metadata": {
        "id": "97gdamleswUh",
        "colab_type": "code",
        "colab": {}
      },
      "source": [
        "fs"
      ],
      "execution_count": 0,
      "outputs": []
    },
    {
      "cell_type": "code",
      "metadata": {
        "id": "WhmA0auIsxlf",
        "colab_type": "code",
        "colab": {}
      },
      "source": [
        "x #x is an array of 16 bit integers"
      ],
      "execution_count": 0,
      "outputs": []
    },
    {
      "cell_type": "code",
      "metadata": {
        "id": "L56DI7mgSAWX",
        "colab_type": "code",
        "colab": {}
      },
      "source": [
        "x.size #These many Samples"
      ],
      "execution_count": 0,
      "outputs": []
    },
    {
      "cell_type": "code",
      "metadata": {
        "id": "kMdzv9XvSV2G",
        "colab_type": "code",
        "colab": {}
      },
      "source": [
        "x.size/fs #To know the duration of the sound (sec)"
      ],
      "execution_count": 0,
      "outputs": []
    },
    {
      "cell_type": "markdown",
      "metadata": {
        "id": "nioEzfK57HJF",
        "colab_type": "text"
      },
      "source": [
        "To Plot"
      ]
    },
    {
      "cell_type": "code",
      "metadata": {
        "id": "qnvtKler7GOA",
        "colab_type": "code",
        "colab": {}
      },
      "source": [
        "!pip install mpld3"
      ],
      "execution_count": 0,
      "outputs": []
    },
    {
      "cell_type": "code",
      "metadata": {
        "id": "sFvfaNSRSr2Q",
        "colab_type": "code",
        "colab": {}
      },
      "source": [
        "import mpld3\n",
        "import matplotlib.pyplot as plt\n",
        "mpld3.enable_notebook()\n",
        "plt.rcParams['figure.figsize'] = [9, 6]"
      ],
      "execution_count": 0,
      "outputs": []
    },
    {
      "cell_type": "code",
      "metadata": {
        "id": "6K81I3R96vth",
        "colab_type": "code",
        "colab": {}
      },
      "source": [
        "plt.plot(x)\n",
        "plt.title('Sample Values of the Sound')\n",
        "plt.show()"
      ],
      "execution_count": 0,
      "outputs": []
    },
    {
      "cell_type": "markdown",
      "metadata": {
        "id": "uhR8tTi4TYRZ",
        "colab_type": "text"
      },
      "source": [
        "This isn't a proper way to visualize sound. The x axis must be the Time axis."
      ]
    },
    {
      "cell_type": "code",
      "metadata": {
        "id": "gMu35JyK_Atn",
        "colab_type": "code",
        "colab": {}
      },
      "source": [
        "import numpy as np"
      ],
      "execution_count": 0,
      "outputs": []
    },
    {
      "cell_type": "code",
      "metadata": {
        "id": "-Cor8eArS4t1",
        "colab_type": "code",
        "colab": {}
      },
      "source": [
        "t = np.arange(x.size)/fs \n",
        "plt.plot(t,x)\n",
        "plt.title('Sample Values of the Sound v/s Time')\n",
        "plt.show()"
      ],
      "execution_count": 0,
      "outputs": []
    },
    {
      "cell_type": "code",
      "metadata": {
        "id": "gWviv88I6Xb-",
        "colab_type": "code",
        "colab": {}
      },
      "source": [
        "#To plot a segment of array\n",
        "y = x[44100: 45100]\n",
        "plt.plot(y)\n",
        "plt.show()"
      ],
      "execution_count": 0,
      "outputs": []
    },
    {
      "cell_type": "markdown",
      "metadata": {
        "id": "0Q8bK5jPDH9I",
        "colab_type": "text"
      },
      "source": [
        "Some operations on the Sound"
      ]
    },
    {
      "cell_type": "code",
      "metadata": {
        "id": "LzB2na6_CUGe",
        "colab_type": "code",
        "colab": {}
      },
      "source": [
        "np.max(x)"
      ],
      "execution_count": 0,
      "outputs": []
    },
    {
      "cell_type": "code",
      "metadata": {
        "id": "viVAElULDaww",
        "colab_type": "code",
        "colab": {}
      },
      "source": [
        "#Since sounds are both negative & positive\n",
        "np.max(abs(x))"
      ],
      "execution_count": 0,
      "outputs": []
    },
    {
      "cell_type": "code",
      "metadata": {
        "id": "07L9IT66Dapz",
        "colab_type": "code",
        "colab": {}
      },
      "source": [
        "np.sum(abs(x))"
      ],
      "execution_count": 0,
      "outputs": []
    },
    {
      "cell_type": "markdown",
      "metadata": {
        "id": "xFaq0Xj58BjI",
        "colab_type": "text"
      },
      "source": [
        "Summary"
      ]
    },
    {
      "cell_type": "code",
      "metadata": {
        "id": "U0Kg9Bj574Pq",
        "colab_type": "code",
        "colab": {}
      },
      "source": [
        "#Reading another File\n",
        "data, samplerate = soundfile.read('Ultrasound.wav')\n",
        "soundfile.write('Ultrasound1.wav', data, samplerate, subtype='PCM_16')#Changing 24-bit sound to 16-bit sound\n",
        "\n",
        "(fs1, x1) = read(\"Ultrasound1.wav\")\n",
        "\n",
        "#Since the file has both left & right waveforms, x1 has two columns\n",
        "#We need to reduce it to one\n",
        "x2 = x1[:, 0]   #This step could be omitted otherwise\n",
        "\n",
        "\n",
        "t1=np.arange(x2.size)/fs1"
      ],
      "execution_count": 0,
      "outputs": []
    },
    {
      "cell_type": "code",
      "metadata": {
        "id": "vZ4GzRqaAWfo",
        "colab_type": "code",
        "colab": {}
      },
      "source": [
        "plt.plot(t1,x2)\n",
        "plt.title('From Infrasonic to Ultrasonic')\n",
        "plt.show()\n",
        "#Note: This might crash the Google Colab. Jupyter Notebook is adviced."
      ],
      "execution_count": 0,
      "outputs": []
    },
    {
      "cell_type": "code",
      "metadata": {
        "id": "2E3GyQNB6cez",
        "colab_type": "code",
        "colab": {}
      },
      "source": [
        "x1"
      ],
      "execution_count": 0,
      "outputs": []
    },
    {
      "cell_type": "code",
      "metadata": {
        "id": "H1Cd0pTc9Fhy",
        "colab_type": "code",
        "colab": {}
      },
      "source": [
        "x2"
      ],
      "execution_count": 0,
      "outputs": []
    }
  ]
}